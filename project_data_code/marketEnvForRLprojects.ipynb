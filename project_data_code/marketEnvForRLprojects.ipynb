{
  "cells": [
    {
      "cell_type": "markdown",
      "metadata": {
        "id": "view-in-github",
        "colab_type": "text"
      },
      "source": [
        "<a href=\"https://colab.research.google.com/github/gmshroff/metaLearning2022/blob/main/project_data_code/marketEnvForRLprojects.ipynb\" target=\"_parent\"><img src=\"https://colab.research.google.com/assets/colab-badge.svg\" alt=\"Open In Colab\"/></a>"
      ]
    },
    {
      "cell_type": "code",
      "source": [
        "!pip install -q --upgrade --force-reinstall --no-deps kaggle"
      ],
      "metadata": {
        "id": "2Ee6dqCMp3jE"
      },
      "id": "2Ee6dqCMp3jE",
      "execution_count": null,
      "outputs": []
    },
    {
      "cell_type": "code",
      "source": [
        "from google.colab import files"
      ],
      "metadata": {
        "id": "mAVLcFUWp5Qy"
      },
      "id": "mAVLcFUWp5Qy",
      "execution_count": null,
      "outputs": []
    },
    {
      "cell_type": "code",
      "source": [
        "files.upload()"
      ],
      "metadata": {
        "id": "3gwQ2ovBp-Dj"
      },
      "id": "3gwQ2ovBp-Dj",
      "execution_count": null,
      "outputs": []
    },
    {
      "cell_type": "code",
      "source": [
        "!mkdir /root/.kaggle"
      ],
      "metadata": {
        "id": "3UkUzcxDp_2Z"
      },
      "id": "3UkUzcxDp_2Z",
      "execution_count": null,
      "outputs": []
    },
    {
      "cell_type": "code",
      "source": [
        "!mv ./kaggle.json /root/.kaggle/."
      ],
      "metadata": {
        "id": "bTrnSbLpqBwe"
      },
      "id": "bTrnSbLpqBwe",
      "execution_count": null,
      "outputs": []
    },
    {
      "cell_type": "code",
      "source": [
        "!chmod 600 /root/.kaggle/kaggle.json"
      ],
      "metadata": {
        "id": "ZAs2ql1cqDkR"
      },
      "id": "ZAs2ql1cqDkR",
      "execution_count": null,
      "outputs": []
    },
    {
      "cell_type": "code",
      "source": [
        "!kaggle datasets list --user gmshroff"
      ],
      "metadata": {
        "id": "0kdYNw4IqHSo"
      },
      "id": "0kdYNw4IqHSo",
      "execution_count": null,
      "outputs": []
    },
    {
      "cell_type": "code",
      "source": [
        "!kaggle datasets download -d gmshroff/market-data-rl"
      ],
      "metadata": {
        "id": "U34YsqUxqHs9"
      },
      "id": "U34YsqUxqHs9",
      "execution_count": null,
      "outputs": []
    },
    {
      "cell_type": "code",
      "source": [
        "!unzip market-data-rl"
      ],
      "metadata": {
        "id": "0GfOhup3qnhL"
      },
      "id": "0GfOhup3qnhL",
      "execution_count": null,
      "outputs": []
    },
    {
      "cell_type": "code",
      "source": [
        "!ls"
      ],
      "metadata": {
        "id": "fsF8sK6-quBp"
      },
      "id": "fsF8sK6-quBp",
      "execution_count": null,
      "outputs": []
    },
    {
      "cell_type": "code",
      "execution_count": null,
      "id": "0e656fa2-428a-47ce-91de-6430f202c466",
      "metadata": {
        "id": "0e656fa2-428a-47ce-91de-6430f202c466"
      },
      "outputs": [],
      "source": [
        "import pandas as pd\n",
        "import numpy as np"
      ]
    },
    {
      "cell_type": "code",
      "execution_count": null,
      "id": "09d59684-93c1-4ba3-9ff5-f7af67b659ee",
      "metadata": {
        "id": "09d59684-93c1-4ba3-9ff5-f7af67b659ee"
      },
      "outputs": [],
      "source": [
        "class marketEnv():\n",
        "    def __init__(self,df,symbol,day,target,stoploss,txcost=.001):\n",
        "        self.df=df.loc[(df['day']==day)&(df['sym']==symbol)]\n",
        "        self.symbol=symbol\n",
        "        self.day=day\n",
        "        self.t=target\n",
        "        self.l=stoploss\n",
        "        self.sl=stoploss\n",
        "        self.time=0\n",
        "        self.end=self.df.shape[0]\n",
        "        self.r=self.df['Close'].values\n",
        "        self.done=False\n",
        "        self.mv=self.df.iloc[0]['Open']\n",
        "        self.txcost=txcost\n",
        "    def thresh(self,x,pos):\n",
        "        #x=current_price,pos=position_taken(+-)\n",
        "        if pos>0:\n",
        "            if x>pos+self.t*pos or x<pos-self.l*pos: return 1\n",
        "            else: return 0\n",
        "        elif pos<0:\n",
        "            if x<abs(pos)-self.t*abs(pos) or x>abs(pos)+self.l*abs(pos): return 1\n",
        "            else: return 0\n",
        "    def partial_thresh(self,x,pos):\n",
        "        #x=current_price,pos=position_taken(+-)\n",
        "        if pos>0:\n",
        "            if x>pos+self.t*pos/2: return 1\n",
        "            else: return 0\n",
        "        elif pos<0:\n",
        "            if x<abs(pos)-self.t*abs(pos)/2: return 1\n",
        "            else: return 0\n",
        "    def get_state(self):\n",
        "        return self.df.iloc[0:self.time+1]\n",
        "    def step(self,action):\n",
        "        if action==0: \n",
        "            ret=0.0\n",
        "            if self.time+1==self.end: self.done=True\n",
        "            else: self.time+=1\n",
        "            return self.df.iloc[0:self.time+1],ret,self.done\n",
        "        else: \n",
        "            r=self.r\n",
        "            pos=action*r[self.time]\n",
        "            while True:\n",
        "                thresh_met=self.thresh(self.r[self.time],pos)\n",
        "                if thresh_met: break\n",
        "                if self.time+1==self.end:\n",
        "                    self.done=True\n",
        "                    break\n",
        "                else: self.time+=1\n",
        "                if self.partial_thresh(self.r[self.time],pos): self.l=-self.t/2\n",
        "            if pos>0: ret=r[self.time]-pos-r[self.time]*self.txcost\n",
        "            elif pos<0: ret=abs(pos)-r[self.time]-r[self.time]*self.txcost\n",
        "            ret=ret*100/self.mv\n",
        "            self.l=self.sl\n",
        "            return self.df.iloc[0:self.time+1],ret,self.done"
      ]
    },
    {
      "cell_type": "code",
      "execution_count": null,
      "id": "488aa345-18d1-4fd3-ae6b-d29660cd424e",
      "metadata": {
        "id": "488aa345-18d1-4fd3-ae6b-d29660cd424e"
      },
      "outputs": [],
      "source": [
        "def run_episode(env,policy):\n",
        "    env.time=0\n",
        "    state=env.get_state()\n",
        "    rewards=[]\n",
        "    tot=0.0\n",
        "    done=False\n",
        "    while done==False:\n",
        "        action=policy(state)\n",
        "        state,rew,done=env.step(action)\n",
        "        tot+=rew\n",
        "        rewards+=[rew]\n",
        "        #print(state.shape[0],rew,tot)\n",
        "    return tot,rewards"
      ]
    },
    {
      "cell_type": "code",
      "execution_count": null,
      "id": "ad23aa5a-9a5d-47f5-8b7a-a352484bb570",
      "metadata": {
        "id": "ad23aa5a-9a5d-47f5-8b7a-a352484bb570"
      },
      "outputs": [],
      "source": [
        "def always_buy(df):\n",
        "    return 1\n",
        "def always_sell(df):\n",
        "    return -1"
      ]
    },
    {
      "cell_type": "code",
      "execution_count": null,
      "id": "6ae0a35b-2357-4491-98a1-cffb6596f465",
      "metadata": {
        "id": "6ae0a35b-2357-4491-98a1-cffb6596f465"
      },
      "outputs": [],
      "source": [
        "dfrl=pd.read_csv('./dfrl.csv')"
      ]
    },
    {
      "cell_type": "code",
      "execution_count": null,
      "id": "6d047651-0141-48aa-a845-04c52af8f226",
      "metadata": {
        "id": "6d047651-0141-48aa-a845-04c52af8f226"
      },
      "outputs": [],
      "source": [
        "# The symbols in each group are those of securities in related industries\n",
        "groups={0: [189, 167],\n",
        " 1: [269, 236, 251],\n",
        " 2: [116, 280, 90],\n",
        " 3: [137, 31, 231],\n",
        " 4: [133, 185, 23]}"
      ]
    },
    {
      "cell_type": "code",
      "execution_count": null,
      "id": "e42a0255-8a3e-4bda-9915-71756abe91b9",
      "metadata": {
        "id": "e42a0255-8a3e-4bda-9915-71756abe91b9"
      },
      "outputs": [],
      "source": [
        "symbols=groups[0]"
      ]
    },
    {
      "cell_type": "code",
      "execution_count": null,
      "id": "edb408b3-7c70-4d74-aa56-b401fc4732ba",
      "metadata": {
        "id": "edb408b3-7c70-4d74-aa56-b401fc4732ba"
      },
      "outputs": [],
      "source": [
        "days=dfrl['day'].unique()"
      ]
    },
    {
      "cell_type": "code",
      "execution_count": null,
      "id": "00c69ddb-4e4e-451d-9797-8f0aeb7446b0",
      "metadata": {
        "id": "00c69ddb-4e4e-451d-9797-8f0aeb7446b0"
      },
      "outputs": [],
      "source": [
        "env=marketEnv(df=dfrl,symbol=symbols[0],day=days[10],target=0.005,stoploss=0.05)"
      ]
    },
    {
      "cell_type": "code",
      "execution_count": null,
      "id": "69cc73ed-bba8-4b7b-88cd-5bc830b8514f",
      "metadata": {
        "id": "69cc73ed-bba8-4b7b-88cd-5bc830b8514f"
      },
      "outputs": [],
      "source": [
        "ret,_=run_episode(env,always_buy)"
      ]
    },
    {
      "cell_type": "code",
      "source": [
        "ret"
      ],
      "metadata": {
        "id": "Vk0x07TcrBm_"
      },
      "id": "Vk0x07TcrBm_",
      "execution_count": null,
      "outputs": []
    },
    {
      "cell_type": "code",
      "execution_count": null,
      "id": "4f8b1e35-530f-4ad3-b2f9-7a087be72907",
      "metadata": {
        "id": "4f8b1e35-530f-4ad3-b2f9-7a087be72907"
      },
      "outputs": [],
      "source": [
        "tot_ret=0\n",
        "print(symbols[0])\n",
        "for day in days:\n",
        "    env=marketEnv(df=dfrl,symbol=symbols[0],day=day,target=0.005,stoploss=0.05)\n",
        "    ret,_=run_episode(env,always_sell)\n",
        "    tot_ret+=ret\n",
        "    print(ret,tot_ret)"
      ]
    },
    {
      "cell_type": "code",
      "execution_count": null,
      "id": "df41f646-68b6-4bbd-ad3b-7556685dbf93",
      "metadata": {
        "id": "df41f646-68b6-4bbd-ad3b-7556685dbf93"
      },
      "outputs": [],
      "source": [
        "env.get_state().shape"
      ]
    },
    {
      "cell_type": "code",
      "execution_count": null,
      "id": "842a74d3-65e0-400f-90ff-ba0db5517fc5",
      "metadata": {
        "id": "842a74d3-65e0-400f-90ff-ba0db5517fc5"
      },
      "outputs": [],
      "source": [
        "env.step(0)"
      ]
    }
  ],
  "metadata": {
    "kernelspec": {
      "display_name": "Python 3 (ipykernel)",
      "language": "python",
      "name": "python3"
    },
    "language_info": {
      "codemirror_mode": {
        "name": "ipython",
        "version": 3
      },
      "file_extension": ".py",
      "mimetype": "text/x-python",
      "name": "python",
      "nbconvert_exporter": "python",
      "pygments_lexer": "ipython3",
      "version": "3.8.12"
    },
    "colab": {
      "name": "marketEnvForRLprojects.ipynb",
      "provenance": [],
      "include_colab_link": true
    }
  },
  "nbformat": 4,
  "nbformat_minor": 5
}