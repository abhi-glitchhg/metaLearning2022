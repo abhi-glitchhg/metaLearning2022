{
  "cells": [
    {
      "cell_type": "markdown",
      "metadata": {
        "id": "view-in-github",
        "colab_type": "text"
      },
      "source": [
        "<a href=\"https://colab.research.google.com/github/gmshroff/metaLearning2022/blob/main/project_data_code/marketCLTasks.ipynb\" target=\"_parent\"><img src=\"https://colab.research.google.com/assets/colab-badge.svg\" alt=\"Open In Colab\"/></a>"
      ]
    },
    {
      "cell_type": "code",
      "execution_count": null,
      "id": "4e42672f-0b7b-42a0-a75f-02dcea0cd943",
      "metadata": {
        "id": "4e42672f-0b7b-42a0-a75f-02dcea0cd943"
      },
      "outputs": [],
      "source": [
        "import pandas as pd\n",
        "import numpy as np"
      ]
    },
    {
      "cell_type": "code",
      "execution_count": null,
      "id": "dd00b879-811c-4d40-880b-34129c32380c",
      "metadata": {
        "id": "dd00b879-811c-4d40-880b-34129c32380c"
      },
      "outputs": [],
      "source": [
        "import pickle"
      ]
    },
    {
      "cell_type": "code",
      "source": [
        "!pip install -q --upgrade --force-reinstall --no-deps kaggle"
      ],
      "metadata": {
        "id": "2Bmr1C5lPQ-Y"
      },
      "id": "2Bmr1C5lPQ-Y",
      "execution_count": null,
      "outputs": []
    },
    {
      "cell_type": "code",
      "source": [
        "from google.colab import files"
      ],
      "metadata": {
        "id": "iJm-ksO_Pp6Q"
      },
      "id": "iJm-ksO_Pp6Q",
      "execution_count": null,
      "outputs": []
    },
    {
      "cell_type": "code",
      "execution_count": null,
      "id": "1f3a4c4e-894b-4d68-8a13-acb1c446d16d",
      "metadata": {
        "id": "1f3a4c4e-894b-4d68-8a13-acb1c446d16d"
      },
      "outputs": [],
      "source": [
        "class MarketCLTasks():\n",
        "    def __init__(self,df):\n",
        "        days=df['day'].unique()\n",
        "        ndays=len(list(days))\n",
        "        tr_n=int(ndays*3/4)\n",
        "        self.tr_n=tr_n\n",
        "        self.dfTr=df.loc[df['day']<tr_n]\n",
        "        self.dfTe=df.loc[df['day']>=tr_n]\n",
        "        self.train_tasks=[]\n",
        "        self.test_tasks=[]\n",
        "    def clear_data(self):\n",
        "        self.dfTr=[]\n",
        "        self.dfTe=[]\n",
        "    def load_data(self,df):\n",
        "        self.dfTr=df.loc[df['day']<self.tr_n]\n",
        "        self.dfTe=df.loc[df['day']>=self.tr_n]\n",
        "    # def create_tasks(self,df,taskL):\n",
        "    #     symbols=df['sym'].unique()\n",
        "    #     days=df['day'].unique()\n",
        "    #     for s in symbols:\n",
        "    #         for d in days:\n",
        "    #             dfsd=df.loc[(df['day']==d)&(df['sym']==s)]\n",
        "    #             n=dfsd.shape[0]\n",
        "    #             tasks=[(d,s,i) for i in range(n)]\n",
        "    #             taskL+=tasks\n",
        "    def get_num_train_tasks(self):\n",
        "        return len(self.train_tasks)\n",
        "    def get_num_test_tasks(self):\n",
        "        return len(self.test_tasks)\n",
        "    def get_task(self,k,kind='train'):\n",
        "        if kind=='train':\n",
        "            (d,s,i)=self.train_tasks[k]\n",
        "            df=self.dfTr.loc[(self.dfTr['day']==d)&(self.dfTr['sym']==s)]\n",
        "        elif kind=='test':\n",
        "            (d,s,i)=self.test_tasks[k]\n",
        "            df=self.dfTe.loc[(self.dfTr['day']==d)&(self.dfTr['sym']==s)]\n",
        "        dftrain=df.iloc[0:i][['Open', 'High', 'Low', 'Close', 'Volume', 'Dividends',\n",
        "       'Open_prev', 'High_prev', 'Low_prev', 'Close_prev', 'Volume_prev',\n",
        "       'Dividends_prev', 'hurst', 'SMA_10', 'SMA_20', 'SMA_50', 'SMA_200',\n",
        "       'VOL_SMA_20', 'RSI_14', 'BBL_5_2.0', 'BBM_5_2.0', 'BBU_5_2.0',\n",
        "       'BBB_5_2.0', 'BBP_5_2.0', 'MACD_12_26_9', 'MACDh_12_26_9',\n",
        "       'MACDs_12_26_9','sym']]\n",
        "        label=df.iloc[-1][['(0.02, 0.01)', '(0.01, 0.005)', '(0.01, 0.02)',\n",
        "       '(0.005, 0.01)']]\n",
        "        return dftrain,label"
      ]
    },
    {
      "cell_type": "code",
      "source": [
        "files.upload()"
      ],
      "metadata": {
        "id": "F_8Fu47UPruE"
      },
      "id": "F_8Fu47UPruE",
      "execution_count": null,
      "outputs": []
    },
    {
      "cell_type": "code",
      "source": [
        "!mkdir /root/.kaggle"
      ],
      "metadata": {
        "id": "42-CFCTAPy17"
      },
      "id": "42-CFCTAPy17",
      "execution_count": null,
      "outputs": []
    },
    {
      "cell_type": "code",
      "source": [
        "!mv ./kaggle.json /root/.kaggle/."
      ],
      "metadata": {
        "id": "bg4pTcuhP4DT"
      },
      "id": "bg4pTcuhP4DT",
      "execution_count": null,
      "outputs": []
    },
    {
      "cell_type": "code",
      "source": [
        "!chmod 600 /root/.kaggle/kaggle.json"
      ],
      "metadata": {
        "id": "iQihCvFEP6Te"
      },
      "id": "iQihCvFEP6Te",
      "execution_count": null,
      "outputs": []
    },
    {
      "cell_type": "code",
      "source": [
        "!kaggle datasets download -d gmshroff/market-data-cl"
      ],
      "metadata": {
        "id": "sSUDEyHUQFCW"
      },
      "id": "sSUDEyHUQFCW",
      "execution_count": null,
      "outputs": []
    },
    {
      "cell_type": "code",
      "source": [
        "!unzip market-data-cl.zip"
      ],
      "metadata": {
        "id": "td9hsZ-DQMuB"
      },
      "id": "td9hsZ-DQMuB",
      "execution_count": null,
      "outputs": []
    },
    {
      "cell_type": "code",
      "source": [
        "!ls dfcl.csv"
      ],
      "metadata": {
        "id": "4oOyd6L0QUqz"
      },
      "id": "4oOyd6L0QUqz",
      "execution_count": null,
      "outputs": []
    },
    {
      "cell_type": "code",
      "execution_count": null,
      "id": "55fc97e7-ff8c-482b-a674-f71da3c4705b",
      "metadata": {
        "id": "55fc97e7-ff8c-482b-a674-f71da3c4705b"
      },
      "outputs": [],
      "source": [
        "dfcl=pd.read_csv('./dfcl.csv/dfcl.csv')"
      ]
    },
    {
      "cell_type": "code",
      "execution_count": null,
      "id": "c5a2f41e-4dde-40f9-8da6-f794e1474988",
      "metadata": {
        "id": "c5a2f41e-4dde-40f9-8da6-f794e1474988"
      },
      "outputs": [],
      "source": [
        "with open('./marketCLTasks.pickle/marketCLTasks.pickle','rb') as f: mcl=pickle.load(f)"
      ]
    },
    {
      "cell_type": "code",
      "execution_count": null,
      "id": "a5cc302f-04c5-42df-8dd8-b0cc52240c7f",
      "metadata": {
        "id": "a5cc302f-04c5-42df-8dd8-b0cc52240c7f"
      },
      "outputs": [],
      "source": [
        "mcl.load_data(dfcl)"
      ]
    },
    {
      "cell_type": "code",
      "execution_count": null,
      "id": "ada02984-821c-4636-ab81-f34382cdb01c",
      "metadata": {
        "id": "ada02984-821c-4636-ab81-f34382cdb01c"
      },
      "outputs": [],
      "source": [
        "mcl.get_task(100001)"
      ]
    },
    {
      "cell_type": "code",
      "execution_count": null,
      "id": "07180e30-06d5-43d4-93d6-3ab09f8b30b4",
      "metadata": {
        "id": "07180e30-06d5-43d4-93d6-3ab09f8b30b4"
      },
      "outputs": [],
      "source": [
        ""
      ]
    }
  ],
  "metadata": {
    "kernelspec": {
      "display_name": "Python 3 (ipykernel)",
      "language": "python",
      "name": "python3"
    },
    "language_info": {
      "codemirror_mode": {
        "name": "ipython",
        "version": 3
      },
      "file_extension": ".py",
      "mimetype": "text/x-python",
      "name": "python",
      "nbconvert_exporter": "python",
      "pygments_lexer": "ipython3",
      "version": "3.8.12"
    },
    "colab": {
      "name": "marketCLTasks.ipynb",
      "provenance": [],
      "include_colab_link": true
    }
  },
  "nbformat": 4,
  "nbformat_minor": 5
}