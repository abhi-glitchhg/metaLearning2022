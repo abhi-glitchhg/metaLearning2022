{
  "metadata": {
    "kernelspec": {
      "language": "python",
      "display_name": "Python 3",
      "name": "python3"
    },
    "language_info": {
      "name": "python",
      "version": "3.7.12",
      "mimetype": "text/x-python",
      "codemirror_mode": {
        "name": "ipython",
        "version": 3
      },
      "pygments_lexer": "ipython3",
      "nbconvert_exporter": "python",
      "file_extension": ".py"
    },
    "colab": {
      "name": "market_data.ipynb",
      "provenance": [],
      "include_colab_link": true
    }
  },
  "nbformat_minor": 0,
  "nbformat": 4,
  "cells": [
    {
      "cell_type": "markdown",
      "metadata": {
        "id": "view-in-github",
        "colab_type": "text"
      },
      "source": [
        "<a href=\"https://colab.research.google.com/github/gmshroff/metaLearning2022/blob/main/project_data_code/market_data.ipynb\" target=\"_parent\"><img src=\"https://colab.research.google.com/assets/colab-badge.svg\" alt=\"Open In Colab\"/></a>"
      ]
    },
    {
      "cell_type": "code",
      "source": [
        "!pip install -q --upgrade --force-reinstall --no-deps kaggle"
      ],
      "metadata": {
        "id": "E5Ms37a5QPJR"
      },
      "execution_count": null,
      "outputs": []
    },
    {
      "cell_type": "code",
      "source": [
        "from google.colab import files"
      ],
      "metadata": {
        "id": "-n6Ktm9eQUDW"
      },
      "execution_count": null,
      "outputs": []
    },
    {
      "cell_type": "code",
      "source": [
        "import numpy as np\n",
        "import pandas as pd\n",
        "import json\n",
        "import matplotlib.pyplot as plt \n",
        "import torch\n",
        "from datetime import datetime\n",
        "from torch.utils.data import Dataset\n",
        "from sklearn.preprocessing import StandardScaler\n",
        "import pickle"
      ],
      "metadata": {
        "id": "Va8MDpQIRYrQ"
      },
      "execution_count": null,
      "outputs": []
    },
    {
      "cell_type": "code",
      "source": [
        "class TsDS(Dataset):\n",
        "    def __init__(self, XL,yL,flatten=False,lno=None,long=True):\n",
        "        self.samples=[]\n",
        "        self.labels=[]\n",
        "        self.flatten=flatten\n",
        "        self.lno=lno\n",
        "        self.long=long\n",
        "        self.scaler = StandardScaler()\n",
        "        for X,Y in zip(XL,yL):\n",
        "            self.samples += [torch.tensor(X).float()]\n",
        "            self.labels += [torch.tensor(Y)]\n",
        "    def __len__(self):\n",
        "        return sum([s.shape[0] for s in self.samples])\n",
        "    def __getitem__(self, idx):\n",
        "        if self.flatten: sample=self.samples[idx].flatten(start_dim=1)\n",
        "        else: sample=self.samples[idx]\n",
        "        if self.lno==None: label=self.labels[idx]\n",
        "        elif self.long: label=self.labels[idx][:,self.lno].long()\n",
        "        else: label=self.labels[idx][:,self.lno].float()\n",
        "        return (sample,label)\n",
        "    def fit(self,kind='seq'):\n",
        "        if kind=='seq':\n",
        "            self.lastelems=[torch.cat([s[:,-1,:] for s in self.samples],dim=0)]\n",
        "            self.scaler.fit(torch.cat([le for le in self.lastelems],dim=0))            \n",
        "        elif kind=='flat': self.scaler.fit(torch.cat([s for s in self.samples],dim=0))\n",
        "    def scale(self,kind='flat',scaler=None):\n",
        "        def cs(s):\n",
        "            return (s.shape[0]*s.shape[1],s.shape[2])\n",
        "        if scaler==None: scaler=self.scaler\n",
        "        if kind=='seq':\n",
        "            self.samples=[torch.tensor(scaler.transform(s.reshape(cs(s))).reshape(s.shape)).float() for s in self.samples]\n",
        "            pass\n",
        "        elif kind=='flat':\n",
        "            self.samples=[torch.tensor(scaler.transform(s)).float() for s in self.samples]\n",
        "    def unscale(self,kind='flat',scaler=None):\n",
        "        def cs(s):\n",
        "            return (s.shape[0]*s.shape[1],s.shape[2])\n",
        "        if scaler==None: scaler=self.scaler\n",
        "        if kind=='seq':\n",
        "            self.samples=[torch.tensor(scaler.inverse_transform(s.reshape(cs(s))).reshape(s.shape)).float() for s in self.samples]\n",
        "            pass\n",
        "        elif kind=='flat':\n",
        "            self.samples=[torch.tensor(scaler.inverse_transform(s)).float() for s in self.samples]"
      ],
      "metadata": {
        "id": "ih0oEFWDVFmT"
      },
      "execution_count": null,
      "outputs": []
    },
    {
      "cell_type": "code",
      "source": [
        "files.upload()"
      ],
      "metadata": {
        "id": "gXFQqhW8QYhb"
      },
      "execution_count": null,
      "outputs": []
    },
    {
      "cell_type": "code",
      "source": [
        "!mkdir /root/.kaggle"
      ],
      "metadata": {
        "id": "ea7yG66MQb1R"
      },
      "execution_count": null,
      "outputs": []
    },
    {
      "cell_type": "code",
      "source": [
        "!mv ./kaggle.json /root/.kaggle/."
      ],
      "metadata": {
        "id": "gR2Ww_kmQkMw"
      },
      "execution_count": null,
      "outputs": []
    },
    {
      "cell_type": "code",
      "source": [
        "!chmod 600 /root/.kaggle/kaggle.json"
      ],
      "metadata": {
        "id": "2E8fWq7oQvGv"
      },
      "execution_count": null,
      "outputs": []
    },
    {
      "cell_type": "code",
      "source": [
        "!kaggle datasets download -d gmshroff/market-data"
      ],
      "metadata": {
        "id": "2VL7AosVQ1ll"
      },
      "execution_count": null,
      "outputs": []
    },
    {
      "cell_type": "code",
      "source": [
        "!unzip market-data.zip"
      ],
      "metadata": {
        "id": "b9pmEFunRLPb"
      },
      "execution_count": null,
      "outputs": []
    },
    {
      "cell_type": "code",
      "source": [
        "!ls marketdata"
      ],
      "metadata": {
        "id": "JYX1y-7tU-XJ"
      },
      "execution_count": null,
      "outputs": []
    },
    {
      "cell_type": "code",
      "source": [
        "with open('./marketdata/train_cs_0_0_2.pickle','rb') as f: train_cs=pickle.load(f)"
      ],
      "metadata": {
        "execution": {
          "iopub.status.busy": "2022-01-31T11:02:36.10071Z",
          "iopub.execute_input": "2022-01-31T11:02:36.101108Z",
          "iopub.status.idle": "2022-01-31T11:02:36.663754Z",
          "shell.execute_reply.started": "2022-01-31T11:02:36.10107Z",
          "shell.execute_reply": "2022-01-31T11:02:36.662709Z"
        },
        "trusted": true,
        "id": "oZu6xSccQAzm"
      },
      "execution_count": null,
      "outputs": []
    },
    {
      "cell_type": "code",
      "source": [
        "train_cs.samples[0].shape"
      ],
      "metadata": {
        "id": "ZFh9v_LoVoFc"
      },
      "execution_count": null,
      "outputs": []
    },
    {
      "cell_type": "code",
      "source": [
        "with open('./marketdata/train_ds_0_0_2.pickle','rb') as f: train_ds=pickle.load(f)"
      ],
      "metadata": {
        "id": "cE9XPQt4VyA1"
      },
      "execution_count": null,
      "outputs": []
    },
    {
      "cell_type": "code",
      "source": [
        "train_ds.samples[0][0][:,3]"
      ],
      "metadata": {
        "id": "NH3DoLSwV2QW"
      },
      "execution_count": null,
      "outputs": []
    },
    {
      "cell_type": "code",
      "source": [
        "train_cs.labels[0][0]"
      ],
      "metadata": {
        "id": "LJ1_T5UUWOEx"
      },
      "execution_count": null,
      "outputs": []
    },
    {
      "cell_type": "code",
      "source": [
        "train_ds.labels[0][0]"
      ],
      "metadata": {
        "id": "n7sAzSU3WU3x"
      },
      "execution_count": null,
      "outputs": []
    }
  ]
}