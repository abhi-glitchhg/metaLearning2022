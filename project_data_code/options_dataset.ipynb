{
  "cells": [
    {
      "cell_type": "markdown",
      "metadata": {
        "id": "view-in-github",
        "colab_type": "text"
      },
      "source": [
        "<a href=\"https://colab.research.google.com/github/gmshroff/metaLearning2022/blob/main/project_data_code/options_dataset.ipynb\" target=\"_parent\"><img src=\"https://colab.research.google.com/assets/colab-badge.svg\" alt=\"Open In Colab\"/></a>"
      ]
    },
    {
      "cell_type": "code",
      "execution_count": null,
      "metadata": {
        "id": "E5Ms37a5QPJR"
      },
      "outputs": [],
      "source": [
        "!pip install -q --upgrade --force-reinstall --no-deps kaggle"
      ]
    },
    {
      "cell_type": "code",
      "execution_count": null,
      "metadata": {
        "id": "-n6Ktm9eQUDW"
      },
      "outputs": [],
      "source": [
        "from google.colab import files"
      ]
    },
    {
      "cell_type": "code",
      "execution_count": null,
      "metadata": {
        "id": "Va8MDpQIRYrQ"
      },
      "outputs": [],
      "source": [
        "import numpy as np\n",
        "import pandas as pd\n",
        "import json\n",
        "import matplotlib.pyplot as plt \n",
        "import torch\n",
        "from datetime import datetime\n",
        "from torch.utils.data import Dataset\n",
        "from sklearn.preprocessing import StandardScaler\n",
        "import pickle"
      ]
    },
    {
      "cell_type": "code",
      "execution_count": null,
      "metadata": {
        "id": "ih0oEFWDVFmT"
      },
      "outputs": [],
      "source": [
        "class OptionsDataset():\n",
        "    def __init__(self):\n",
        "        self.meta_train_tasks=[]\n",
        "        self.meta_test_tasks=[]\n",
        "    def get_meta_train_task(self,r):\n",
        "        return self.meta_train_tasks[r]\n",
        "    def get_meta_test_task(self,r):\n",
        "        return self.meta_train_tasks[r]"
      ]
    },
    {
      "cell_type": "code",
      "execution_count": null,
      "metadata": {
        "id": "gXFQqhW8QYhb"
      },
      "outputs": [],
      "source": [
        "files.upload()"
      ]
    },
    {
      "cell_type": "code",
      "execution_count": null,
      "metadata": {
        "id": "ea7yG66MQb1R"
      },
      "outputs": [],
      "source": [
        "!mkdir /root/.kaggle"
      ]
    },
    {
      "cell_type": "code",
      "execution_count": null,
      "metadata": {
        "id": "gR2Ww_kmQkMw"
      },
      "outputs": [],
      "source": [
        "!mv ./kaggle.json /root/.kaggle/."
      ]
    },
    {
      "cell_type": "code",
      "execution_count": null,
      "metadata": {
        "id": "2E8fWq7oQvGv"
      },
      "outputs": [],
      "source": [
        "!chmod 600 /root/.kaggle/kaggle.json"
      ]
    },
    {
      "cell_type": "code",
      "source": [
        "!kaggle datasets list --user gmshroff"
      ],
      "metadata": {
        "id": "jMwfe9xxGAsX"
      },
      "execution_count": null,
      "outputs": []
    },
    {
      "cell_type": "code",
      "execution_count": null,
      "metadata": {
        "id": "2VL7AosVQ1ll"
      },
      "outputs": [],
      "source": [
        "!kaggle datasets download -d gmshroff/options-dataset"
      ]
    },
    {
      "cell_type": "code",
      "execution_count": null,
      "metadata": {
        "id": "b9pmEFunRLPb"
      },
      "outputs": [],
      "source": [
        "!unzip options-dataset.zip"
      ]
    },
    {
      "cell_type": "code",
      "execution_count": null,
      "metadata": {
        "id": "JYX1y-7tU-XJ"
      },
      "outputs": [],
      "source": [
        "!ls"
      ]
    },
    {
      "cell_type": "code",
      "source": [
        "cd optionsMetaTasksPE.pickle"
      ],
      "metadata": {
        "id": "JpUzGzLuJPVk"
      },
      "execution_count": null,
      "outputs": []
    },
    {
      "cell_type": "code",
      "source": [
        "!ls"
      ],
      "metadata": {
        "id": "BPjFINB5JTh7"
      },
      "execution_count": null,
      "outputs": []
    },
    {
      "cell_type": "code",
      "execution_count": null,
      "metadata": {
        "execution": {
          "iopub.execute_input": "2022-01-31T11:02:36.101108Z",
          "iopub.status.busy": "2022-01-31T11:02:36.10071Z",
          "iopub.status.idle": "2022-01-31T11:02:36.663754Z",
          "shell.execute_reply": "2022-01-31T11:02:36.662709Z",
          "shell.execute_reply.started": "2022-01-31T11:02:36.10107Z"
        },
        "id": "oZu6xSccQAzm"
      },
      "outputs": [],
      "source": [
        "with open('./optionsMetaTasksPE.pickle/optionsMetaTasksPE.pickle','rb') as f: peDataset=pickle.load(f)"
      ]
    },
    {
      "cell_type": "code",
      "execution_count": null,
      "metadata": {
        "id": "mfwKRH-rXiUV"
      },
      "outputs": [],
      "source": [
        "peDataset.get_meta_train_task(0)"
      ]
    },
    {
      "cell_type": "code",
      "source": [
        "with open('./optionsMetaTasksCE.pickle/optionsMetaTasksCE.pickle','rb') as f: ceDataset=pickle.load(f)"
      ],
      "metadata": {
        "id": "7iOgt-cXJ1ap"
      },
      "execution_count": null,
      "outputs": []
    },
    {
      "cell_type": "code",
      "source": [
        "ceDataset.get_meta_train_task(0)"
      ],
      "metadata": {
        "id": "EXD4lB2KJ5_m"
      },
      "execution_count": null,
      "outputs": []
    }
  ],
  "metadata": {
    "colab": {
      "collapsed_sections": [],
      "name": "options_dataset.ipynb",
      "provenance": [],
      "include_colab_link": true
    },
    "kernelspec": {
      "display_name": "Python 3 (ipykernel)",
      "language": "python",
      "name": "python3"
    },
    "language_info": {
      "codemirror_mode": {
        "name": "ipython",
        "version": 3
      },
      "file_extension": ".py",
      "mimetype": "text/x-python",
      "name": "python",
      "nbconvert_exporter": "python",
      "pygments_lexer": "ipython3",
      "version": "3.8.12"
    }
  },
  "nbformat": 4,
  "nbformat_minor": 0
}