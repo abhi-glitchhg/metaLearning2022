{
  "metadata": {
    "kernelspec": {
      "language": "python",
      "display_name": "Python 3",
      "name": "python3"
    },
    "language_info": {
      "name": "python",
      "version": "3.7.12",
      "mimetype": "text/x-python",
      "codemirror_mode": {
        "name": "ipython",
        "version": 3
      },
      "pygments_lexer": "ipython3",
      "nbconvert_exporter": "python",
      "file_extension": ".py"
    },
    "colab": {
      "name": "arc_few_shot.ipynb",
      "provenance": [],
      "include_colab_link": true
    }
  },
  "nbformat_minor": 0,
  "nbformat": 4,
  "cells": [
    {
      "cell_type": "markdown",
      "metadata": {
        "id": "view-in-github",
        "colab_type": "text"
      },
      "source": [
        "<a href=\"https://colab.research.google.com/github/gmshroff/metaLearning2022/blob/main/project_data_code/arc_few_shot.ipynb\" target=\"_parent\"><img src=\"https://colab.research.google.com/assets/colab-badge.svg\" alt=\"Open In Colab\"/></a>"
      ]
    },
    {
      "cell_type": "code",
      "source": [
        "!pip install -q --upgrade --force-reinstall --no-deps kaggle"
      ],
      "metadata": {
        "id": "E5Ms37a5QPJR"
      },
      "execution_count": null,
      "outputs": []
    },
    {
      "cell_type": "code",
      "source": [
        "from google.colab import files"
      ],
      "metadata": {
        "id": "-n6Ktm9eQUDW"
      },
      "execution_count": null,
      "outputs": []
    },
    {
      "cell_type": "code",
      "source": [
        "import numpy as np\n",
        "import pandas as pd\n",
        "import json, os\n",
        "import matplotlib.pyplot as plt \n",
        "from matplotlib import colors\n",
        "from PIL import Image\n",
        "import io\n",
        "import random\n",
        "import copy\n",
        "import pickle"
      ],
      "metadata": {
        "id": "Va8MDpQIRYrQ"
      },
      "execution_count": null,
      "outputs": []
    },
    {
      "cell_type": "code",
      "source": [
        "files.upload()"
      ],
      "metadata": {
        "id": "gXFQqhW8QYhb"
      },
      "execution_count": null,
      "outputs": []
    },
    {
      "cell_type": "code",
      "source": [
        "!mkdir /root/.kaggle"
      ],
      "metadata": {
        "id": "ea7yG66MQb1R"
      },
      "execution_count": null,
      "outputs": []
    },
    {
      "cell_type": "code",
      "source": [
        "!mv ./kaggle.json /root/.kaggle/."
      ],
      "metadata": {
        "id": "gR2Ww_kmQkMw"
      },
      "execution_count": null,
      "outputs": []
    },
    {
      "cell_type": "code",
      "source": [
        "!chmod 600 /root/.kaggle/kaggle.json"
      ],
      "metadata": {
        "id": "2E8fWq7oQvGv"
      },
      "execution_count": null,
      "outputs": []
    },
    {
      "cell_type": "code",
      "source": [
        "!kaggle datasets download -d gmshroff/few-shot-arc"
      ],
      "metadata": {
        "id": "2VL7AosVQ1ll"
      },
      "execution_count": null,
      "outputs": []
    },
    {
      "cell_type": "code",
      "source": [
        "!unzip few-shot-arc.zip"
      ],
      "metadata": {
        "id": "b9pmEFunRLPb"
      },
      "execution_count": null,
      "outputs": []
    },
    {
      "cell_type": "code",
      "source": [
        "class ARC():\n",
        "    def __init__(self,trn_dir='./training_orig/',tes_dir='./test_eval/'):\n",
        "        pass\n",
        "    def plot_task(self,task,kind='orig',show=True,ways=4):\n",
        "        # Call with ways=4 for padded case and ways=6 for unpadded case\n",
        "        n = len(task[\"train\"]) + len(task[\"test\"])\n",
        "        if kind=='orig':fig, axs = plt.subplots(2, n, figsize=(4*n,8), dpi=50)\n",
        "        elif kind=='fewshot': fig, axs = plt.subplots(ways+1, n, figsize=(6*n,12), dpi=100)\n",
        "        plt.subplots_adjust(wspace=0, hspace=0)\n",
        "        fig_num = 0\n",
        "        cmap=self.cmap\n",
        "        norm=self.norm\n",
        "        for i, t in enumerate(task[\"train\"]):\n",
        "            if kind=='fewshot':t_in, t_out = np.array(t[\"input\"]), t[\"output\"]\n",
        "            elif kind=='orig':t_in, t_out = np.array(t[\"input\"]), np.array(t[\"output\"])\n",
        "            axs[0][fig_num].imshow(t_in, cmap=cmap, norm=norm)\n",
        "            axs[0][fig_num].set_title(f'Train-{i} in')\n",
        "            # axs[0][fig_num].set_yticks(list(range(t_in.shape[0])))\n",
        "            # axs[0][fig_num].set_xticks(list(range(t_in.shape[1])))\n",
        "            if kind=='orig':\n",
        "                axs[1][fig_num].imshow(t_out, cmap=cmap, norm=norm)\n",
        "                axs[1][fig_num].set_title(f'Train-{i} out')\n",
        "                # axs[1][fig_num].set_yticks(list(range(t_out.shape[0])))\n",
        "                # axs[1][fig_num].set_xticks(list(range(t_out.shape[1])))\n",
        "            elif kind=='fewshot':\n",
        "                for j in range(ways):\n",
        "                    if j==t['label']: iscorrect='CORRECT'\n",
        "                    else: iscorrect=''\n",
        "                    axs[j+1][fig_num].imshow(np.array(t_out[j]), cmap=cmap, norm=norm)\n",
        "                    axs[j+1][fig_num].set_title(f'Out-{i},{j} '+iscorrect)\n",
        "                    # axs[j+1][fig_num].set_yticks(list(range(np.array(t_out[j]).shape[0])))\n",
        "                    # axs[j+1][fig_num].set_xticks(list(range(np.array(t_out[j]).shape[1])))\n",
        "            fig_num += 1\n",
        "        for i, t in enumerate(task[\"test\"]):\n",
        "            if kind=='fewshot':t_in, t_out = np.array(t[\"input\"]), t[\"output\"]\n",
        "            elif kind=='orig':t_in, t_out = np.array(t[\"input\"]), np.array(t[\"output\"])\n",
        "            axs[0][fig_num].imshow(t_in, cmap=cmap, norm=norm)\n",
        "            axs[0][fig_num].set_title(f'Test-{i} in')\n",
        "            # axs[0][fig_num].set_yticks(list(range(t_in.shape[0])))\n",
        "            # axs[0][fig_num].set_xticks(list(range(t_in.shape[1])))\n",
        "            if kind=='orig' and show:\n",
        "                axs[1][fig_num].imshow(t_out, cmap=cmap, norm=norm)\n",
        "                axs[1][fig_num].set_title(f'Test-{i} out')\n",
        "                # axs[1][fig_num].set_yticks(list(range(t_out.shape[0])))\n",
        "                # axs[1][fig_num].set_xticks(list(range(t_out.shape[1])))\n",
        "            elif kind=='fewshot' and show:\n",
        "                for j in range(ways):\n",
        "                    if j==t['label']: iscorrect='CORRECT'\n",
        "                    else: iscorrect=''\n",
        "                    axs[j+1][fig_num].imshow(np.array(t_out[j]), cmap=cmap, norm=norm)\n",
        "                    axs[j+1][fig_num].set_title(f'Test-{i},{j} '+iscorrect)\n",
        "                    # axs[j+1][fig_num].set_yticks(list(range(np.array(t_out[j]).shape[0])))\n",
        "                    # axs[j+1][fig_num].set_xticks(list(range(np.array(t_out[j]).shape[1])))\n",
        "            fig_num += 1\n",
        "        plt.tight_layout()\n",
        "        plt.show()\n",
        "    def example2img(self,example):\n",
        "        shp=np.array(example).shape\n",
        "        fig=plt.Figure(figsize=(.5*shp[0],.5*shp[1]))\n",
        "        ax = fig.add_subplot()\n",
        "        cmap,norm=self.cmap,self.norm\n",
        "        ax.imshow(np.array(example), cmap=cmap, norm=norm)\n",
        "        \"\"\"Convert a Matplotlib figure to a PIL Image and return it\"\"\"\n",
        "        buf = io.BytesIO()\n",
        "        fig.savefig(buf)\n",
        "        buf.seek(0)\n",
        "        img = Image.open(buf)\n",
        "        return img\n",
        "    def example2numpy(self,example):\n",
        "        return np.array(example)"
      ],
      "metadata": {
        "execution": {
          "iopub.status.busy": "2022-01-31T11:00:48.596395Z",
          "iopub.execute_input": "2022-01-31T11:00:48.5976Z",
          "iopub.status.idle": "2022-01-31T11:00:48.628387Z",
          "shell.execute_reply.started": "2022-01-31T11:00:48.597536Z",
          "shell.execute_reply": "2022-01-31T11:00:48.627396Z"
        },
        "trusted": true,
        "id": "p_UMq1eqQAzk"
      },
      "execution_count": null,
      "outputs": []
    },
    {
      "cell_type": "code",
      "source": [
        "class FewShotARC(ARC):\n",
        "    def __init__(self,trn_dir='./training_orig/',tes_dir='./test_eval/',ways=6):\n",
        "        super().__init__(trn_dir='./training_orig/',tes_dir='./test_eval/')\n",
        "        self.nrand=ways-1\n",
        "        self.ntrain=len(self.trn_tasks)\n",
        "        self.ntest=len(self.tes_tasks)\n",
        "        self.meta_train_tasks=[]\n",
        "        self.meta_test_tasks=[]\n",
        "    def get_fs_task(self,taskid,kind='meta_train'):\n",
        "        if kind=='meta_train': return self.meta_train_tasks[taskid]\n",
        "        elif kind=='meta_test': return self.meta_test_tasks[taskid]\n",
        "    def get_examples(self,taskid,trte,inout,kind='meta_train'):\n",
        "        if kind=='meta_train':taskL=[self.get_task(taskid,kind) for taskid in self.ntrain]\n",
        "        elif kind=='meta_test':taskL=[self.get_task(taskid,kind) for taskid in self.ntrain]\n",
        "        return [taskL[taskid][trte][k][inout] for k in range(len(taskL[taskid][trte]))]"
      ],
      "metadata": {
        "execution": {
          "iopub.status.busy": "2022-01-31T11:00:58.908841Z",
          "iopub.execute_input": "2022-01-31T11:00:58.909196Z",
          "iopub.status.idle": "2022-01-31T11:00:58.932471Z",
          "shell.execute_reply.started": "2022-01-31T11:00:58.909149Z",
          "shell.execute_reply": "2022-01-31T11:00:58.931555Z"
        },
        "trusted": true,
        "id": "ovwST6CCQAzm"
      },
      "execution_count": null,
      "outputs": []
    },
    {
      "cell_type": "code",
      "source": [
        "class FewShotPaddedARC(ARC):\n",
        "    def __init__(self,trn_dir='./training_orig/',tes_dir='./test_eval/',ways=6):\n",
        "        super().__init__(trn_dir='./training_orig/',tes_dir='./test_eval/')\n",
        "        self.nrand=ways-1\n",
        "        self.ntrain=len(self.trn_tasks)\n",
        "        self.ntest=len(self.tes_tasks)\n",
        "        self.meta_train_tasks=[]\n",
        "        self.meta_test_tasks=[]\n",
        "    def get_fs_task(self,taskid,kind='meta_train'):\n",
        "        if kind=='meta_train': return self.meta_train_tasks[taskid]\n",
        "        elif kind=='meta_test': return self.meta_test_tasks[taskid]\n",
        "    def get_examples(self,taskid,trte,inout,kind='meta_train'):\n",
        "        if kind=='meta_train':taskL=[self.get_task(taskid,kind) for taskid in self.ntrain]\n",
        "        elif kind=='meta_test':taskL=[self.get_task(taskid,kind) for taskid in self.ntrain]\n",
        "        return [taskL[taskid][trte][k][inout] for k in range(len(taskL[taskid][trte]))]"
      ],
      "metadata": {
        "id": "OS-mfVbL4y10"
      },
      "execution_count": null,
      "outputs": []
    },
    {
      "cell_type": "code",
      "source": [
        "with open('./FewShotARC.pickle','rb') as f: a=pickle.load(f)"
      ],
      "metadata": {
        "execution": {
          "iopub.status.busy": "2022-01-31T11:02:36.10071Z",
          "iopub.execute_input": "2022-01-31T11:02:36.101108Z",
          "iopub.status.idle": "2022-01-31T11:02:36.663754Z",
          "shell.execute_reply.started": "2022-01-31T11:02:36.10107Z",
          "shell.execute_reply": "2022-01-31T11:02:36.662709Z"
        },
        "trusted": true,
        "id": "oZu6xSccQAzm"
      },
      "execution_count": null,
      "outputs": []
    },
    {
      "cell_type": "code",
      "source": [
        "a.cmap=colors.ListedColormap(['#000000', '#0074D9','#FF4136','#2ECC40','#FFDC00','#AAAAAA', '#F012BE', '#FF851B', '#7FDBFF', '#870C25'])"
      ],
      "metadata": {
        "id": "CJXNuMGijoZX"
      },
      "execution_count": null,
      "outputs": []
    },
    {
      "cell_type": "code",
      "source": [
        "a.norm=colors.Normalize(vmin=0, vmax=9)"
      ],
      "metadata": {
        "id": "_c_2ReNYjyC8"
      },
      "execution_count": null,
      "outputs": []
    },
    {
      "cell_type": "code",
      "source": [
        "task=a.get_fs_task(11)"
      ],
      "metadata": {
        "execution": {
          "iopub.status.busy": "2022-01-31T11:04:54.686238Z",
          "iopub.execute_input": "2022-01-31T11:04:54.686582Z",
          "iopub.status.idle": "2022-01-31T11:04:54.692288Z",
          "shell.execute_reply.started": "2022-01-31T11:04:54.686549Z",
          "shell.execute_reply": "2022-01-31T11:04:54.690919Z"
        },
        "trusted": true,
        "id": "WNCYWVQyQAzn"
      },
      "execution_count": null,
      "outputs": []
    },
    {
      "cell_type": "code",
      "source": [
        "task['train'][0].keys()"
      ],
      "metadata": {
        "id": "G4V-HkhWlK_F"
      },
      "execution_count": null,
      "outputs": []
    },
    {
      "cell_type": "code",
      "source": [
        "a.plot_task(task,kind='fewshot')"
      ],
      "metadata": {
        "execution": {
          "iopub.status.busy": "2022-01-31T11:05:42.417776Z",
          "iopub.execute_input": "2022-01-31T11:05:42.418102Z",
          "iopub.status.idle": "2022-01-31T11:05:44.986663Z",
          "shell.execute_reply.started": "2022-01-31T11:05:42.41807Z",
          "shell.execute_reply": "2022-01-31T11:05:44.985706Z"
        },
        "trusted": true,
        "id": "PMl9Zvd7QAzn"
      },
      "execution_count": null,
      "outputs": []
    },
    {
      "cell_type": "code",
      "source": [
        "with open('./FewShotPaddedARC.pickle','rb') as f: b=pickle.load(f)"
      ],
      "metadata": {
        "id": "IIA688k16MAx"
      },
      "execution_count": null,
      "outputs": []
    },
    {
      "cell_type": "code",
      "source": [
        "b.cmap=colors.ListedColormap(['#000000', '#0074D9','#FF4136','#2ECC40','#FFDC00','#AAAAAA', '#F012BE', '#FF851B', '#7FDBFF', '#870C25'])"
      ],
      "metadata": {
        "id": "IB9eGinx6RvP"
      },
      "execution_count": null,
      "outputs": []
    },
    {
      "cell_type": "code",
      "source": [
        "b.norm=colors.Normalize(vmin=0, vmax=9)"
      ],
      "metadata": {
        "id": "ANv4gb7I6T_f"
      },
      "execution_count": null,
      "outputs": []
    },
    {
      "cell_type": "code",
      "source": [
        "padded_task=b.get_fs_task(11)"
      ],
      "metadata": {
        "id": "Hoht3YCa6V6n"
      },
      "execution_count": null,
      "outputs": []
    },
    {
      "cell_type": "code",
      "source": [
        "b.plot_task(padded_task,kind='fewshot')"
      ],
      "metadata": {
        "id": "cM2qGMx86cZx"
      },
      "execution_count": null,
      "outputs": []
    }
  ]
}