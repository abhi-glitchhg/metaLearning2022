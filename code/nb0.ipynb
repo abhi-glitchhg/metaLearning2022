{
  "cells": [
    {
      "cell_type": "markdown",
      "metadata": {
        "id": "view-in-github",
        "colab_type": "text"
      },
      "source": [
        "<a href=\"https://colab.research.google.com/github/gmshroff/metaLearning2022/blob/main/code/nb0.ipynb\" target=\"_parent\"><img src=\"https://colab.research.google.com/assets/colab-badge.svg\" alt=\"Open In Colab\"/></a>"
      ]
    },
    {
      "cell_type": "markdown",
      "metadata": {
        "id": "0LGklTDZ6PvT"
      },
      "source": [
        "# TRAINING DEEP NEURAL NETWORKS"
      ]
    },
    {
      "cell_type": "code",
      "execution_count": null,
      "metadata": {
        "id": "uYh0sK_F6PvW"
      },
      "outputs": [],
      "source": [
        "!pip install import_ipynb --quiet"
      ]
    },
    {
      "cell_type": "code",
      "source": [
        "!pip install pandas==1.3.4"
      ],
      "metadata": {
        "id": "Gk_0sKJjcn-E"
      },
      "execution_count": null,
      "outputs": []
    },
    {
      "cell_type": "code",
      "source": [
        "import requests"
      ],
      "metadata": {
        "id": "wKLf7HPE6cUP"
      },
      "execution_count": null,
      "outputs": []
    },
    {
      "cell_type": "code",
      "execution_count": null,
      "metadata": {
        "id": "dNu9vMVf6PvX"
      },
      "outputs": [],
      "source": [
        "#If on colab:\n",
        "r=requests.get(\"https://github.com/gmshroff/metaLearning2022/blob/main/code/utils.ipynb?raw=true\")\n",
        "with open('./utils.ipynb','wb') as f: f.write(r.content)\n",
        "r=requests.get(\"https://github.com/gmshroff/metaLearning2022/blob/main/code/course_data.ipynb?raw=true\")\n",
        "with open('./course_data.ipynb','wb') as f: f.write(r.content)\n"
      ]
    },
    {
      "cell_type": "code",
      "source": [
        "from google.colab import drive\n",
        "drive.mount('/content/drive')\n",
        "%ls drive/MyDrive/'Colab Notebooks'"
      ],
      "metadata": {
        "id": "wBb75ybs-xyY"
      },
      "execution_count": null,
      "outputs": []
    },
    {
      "cell_type": "code",
      "source": [
        "!cp drive/MyDrive/'Colab Notebooks'/models.ipynb ."
      ],
      "metadata": {
        "id": "gOGlxKRM_VWM"
      },
      "execution_count": null,
      "outputs": []
    },
    {
      "cell_type": "code",
      "execution_count": null,
      "metadata": {
        "id": "EnbJ9Mia6PvY"
      },
      "outputs": [],
      "source": [
        "import import_ipynb\n",
        "import utils\n",
        "#HW 1 - write code for models in models.ipynb\n",
        "import models\n",
        "from IPython import display\n",
        "import torch\n",
        "from sklearn.manifold import TSNE\n",
        "from matplotlib import pyplot as plt\n",
        "import pickle"
      ]
    },
    {
      "cell_type": "code",
      "execution_count": null,
      "metadata": {
        "id": "i8eBciR16PvZ"
      },
      "outputs": [],
      "source": [
        "#If on colab\n",
        "from course_data import MyDS, ImageData, TsDS, FeedData"
      ]
    },
    {
      "cell_type": "markdown",
      "metadata": {
        "id": "JrwubFFF6PvZ"
      },
      "source": [
        "Random data in $\\mathcal{R}^N$ in $C$ clusters/classes."
      ]
    },
    {
      "cell_type": "code",
      "execution_count": null,
      "metadata": {
        "id": "J1GD2fjl6PvZ"
      },
      "outputs": [],
      "source": [
        "#Generate data - euclidean\n",
        "train_ds, test_ds, dloader = utils.euclideanDataset(n_samples=10000,n_features=20,n_classes=10,batch_size=32)"
      ]
    },
    {
      "cell_type": "markdown",
      "metadata": {
        "id": "mE91cU1C6Pva"
      },
      "source": [
        "Using random data in $\\mathcal{R}^4$ as above to generate sin wave mixures; each class has different mean frequencies and amplitues."
      ]
    },
    {
      "cell_type": "markdown",
      "metadata": {
        "id": "FJyMrEF46Pvb"
      },
      "source": [
        "Project data down to a 2-D space for visualiation."
      ]
    },
    {
      "cell_type": "code",
      "execution_count": null,
      "metadata": {
        "id": "2b8gu6896Pvc"
      },
      "outputs": [],
      "source": [
        "tsne = TSNE()\n",
        "X_2d = tsne.fit_transform(train_ds.samples[0:100])\n",
        "colors=[\"red\",\"green\",\"blue\",\"yellow\",\"pink\",\"black\",\"orange\",\"purple\",\"beige\",\"brown\"]\n",
        "labcol=lambda i: colours[i]\n",
        "plt.scatter(X_2d[:,0],X_2d[:,1],c=[colors[l] for l in train_ds.labels[0:100]])\n",
        "plt.show()"
      ]
    },
    {
      "cell_type": "markdown",
      "metadata": {
        "id": "Qh01Dki_6Pvc"
      },
      "source": [
        "Time series data"
      ]
    },
    {
      "cell_type": "code",
      "execution_count": null,
      "metadata": {
        "id": "FYB68wHC6Pvc"
      },
      "outputs": [],
      "source": [
        "#Generate data - sinusoidal mix\n",
        "train_ds, test_ds, dloader = utils.sinDataset(n_samples=100,length=20,n_classes=5,batch_size=1)"
      ]
    },
    {
      "cell_type": "markdown",
      "source": [
        "Financial Time Series"
      ],
      "metadata": {
        "id": "nPFblsnqaSPh"
      }
    },
    {
      "cell_type": "code",
      "source": [
        "r=requests.get(\"https://github.com/gmshroff/metaLearning2022/blob/main/data/feedDataTrain.pickle.zip?raw=true\")"
      ],
      "metadata": {
        "id": "zFUv5JDwaQqO"
      },
      "execution_count": null,
      "outputs": []
    },
    {
      "cell_type": "code",
      "source": [
        "with open('./feedsDataTrain.pickle.zip','wb') as f: f.write(r.content)"
      ],
      "metadata": {
        "id": "ArHr5LVFa3IX"
      },
      "execution_count": null,
      "outputs": []
    },
    {
      "cell_type": "code",
      "source": [
        "!unzip feedsDataTrain.pickle.zip"
      ],
      "metadata": {
        "id": "7_45kmLCbBBh"
      },
      "execution_count": null,
      "outputs": []
    },
    {
      "cell_type": "code",
      "source": [
        "with open('./feedDataTrain.pickle','rb') as f: feedDataMetaTrain=pickle.load(f)"
      ],
      "metadata": {
        "id": "X3CnuYGBbFgN"
      },
      "execution_count": null,
      "outputs": []
    },
    {
      "cell_type": "code",
      "source": [
        "r=requests.get(\"https://github.com/gmshroff/metaLearning2022/blob/main/data/feedDataTest.pickle.zip?raw=true\")"
      ],
      "metadata": {
        "id": "GpVt6XSBeq6W"
      },
      "execution_count": null,
      "outputs": []
    },
    {
      "cell_type": "code",
      "source": [
        "with open('./feedsDataTest.pickle.zip','wb') as f: f.write(r.content)"
      ],
      "metadata": {
        "id": "NFWRKZYWesZ2"
      },
      "execution_count": null,
      "outputs": []
    },
    {
      "cell_type": "code",
      "source": [
        "!unzip feedsDataTest.pickle.zip"
      ],
      "metadata": {
        "id": "mp0JxPoHe0CF"
      },
      "execution_count": null,
      "outputs": []
    },
    {
      "cell_type": "code",
      "source": [
        "with open('./feedDataTest.pickle','rb') as f: feedDataMetaTest=pickle.load(f)"
      ],
      "metadata": {
        "id": "fmhPtazre5bZ"
      },
      "execution_count": null,
      "outputs": []
    },
    {
      "cell_type": "markdown",
      "metadata": {
        "id": "-35fEKzo6Pvd"
      },
      "source": [
        "Image data from NAR project"
      ]
    },
    {
      "cell_type": "code",
      "execution_count": null,
      "metadata": {
        "id": "q6DAXl886Pvd"
      },
      "outputs": [],
      "source": [
        "#If on Colab/student machine use the next few lines to load image data:\n",
        "r=requests.get(\"https://github.com/gmshroff/metaLearning2022/blob/main/data/image_data.pickle.zip?raw=true\")"
      ]
    },
    {
      "cell_type": "code",
      "execution_count": null,
      "metadata": {
        "id": "w0NaZ9V96Pvd"
      },
      "outputs": [],
      "source": [
        "with open('./image_data.pickle.zip','wb') as f: f.write(r.content)"
      ]
    },
    {
      "cell_type": "code",
      "execution_count": null,
      "metadata": {
        "id": "tt80SV-_6Pvd"
      },
      "outputs": [],
      "source": [
        "!unzip ./image_data.pickle.zip"
      ]
    },
    {
      "cell_type": "code",
      "execution_count": null,
      "metadata": {
        "id": "cKrlyzu-6Pvd"
      },
      "outputs": [],
      "source": [
        "with open('./image_data.pickle','rb') as f: imageData=pickle.load(f)"
      ]
    },
    {
      "cell_type": "code",
      "source": [
        "train_ds,test_ds,mapping,dloader=imageData.train_ds,imageData.test_ds,imageData.mapping,imageData.dloader"
      ],
      "metadata": {
        "id": "WwH1zpQ47l3a"
      },
      "execution_count": null,
      "outputs": []
    },
    {
      "cell_type": "code",
      "execution_count": null,
      "metadata": {
        "id": "185mMMKM6Pve"
      },
      "outputs": [],
      "source": [
        "plt.imshow([t for t in train_ds][11][0].reshape(20,20))"
      ]
    },
    {
      "cell_type": "code",
      "source": [
        "mapping[int(train_ds.labels[11])]"
      ],
      "metadata": {
        "id": "PWdhWdsv8Ue0"
      },
      "execution_count": null,
      "outputs": []
    },
    {
      "cell_type": "code",
      "execution_count": null,
      "metadata": {
        "id": "SoxuT6lJ6Pvf"
      },
      "outputs": [],
      "source": [
        "len(mapping.keys())"
      ]
    },
    {
      "cell_type": "code",
      "execution_count": null,
      "metadata": {
        "id": "aqKD4K0Y6Pvf"
      },
      "outputs": [],
      "source": [
        "mapping"
      ]
    },
    {
      "cell_type": "markdown",
      "metadata": {
        "id": "tqG72B426Pvf"
      },
      "source": [
        "The well-known MNIST data of handwritten characters."
      ]
    },
    {
      "cell_type": "code",
      "execution_count": null,
      "metadata": {
        "id": "ch6mh_sJ6Pvf"
      },
      "outputs": [],
      "source": [
        "train_ds, test_ds, dloader = utils.mnist_data(frac=0.25,download=True)"
      ]
    },
    {
      "cell_type": "code",
      "execution_count": null,
      "metadata": {
        "id": "ejJqZJL_6Pvf"
      },
      "outputs": [],
      "source": [
        "plt.imshow(train_ds.samples.reshape(15000,28,28)[10])\n",
        "plt.show()"
      ]
    },
    {
      "cell_type": "code",
      "source": [
        "train_ds.samples[0].shape"
      ],
      "metadata": {
        "id": "7-fLS3hGAvI2"
      },
      "execution_count": null,
      "outputs": []
    },
    {
      "cell_type": "code",
      "execution_count": null,
      "metadata": {
        "id": "rbY6ua2x6Pvf"
      },
      "outputs": [],
      "source": [
        "net(train_ds.samples[10].unsqueeze(0))"
      ]
    },
    {
      "cell_type": "markdown",
      "metadata": {
        "id": "oBzwyp3k6Pvf"
      },
      "source": [
        "Simple MLP"
      ]
    },
    {
      "cell_type": "code",
      "execution_count": null,
      "metadata": {
        "id": "oDroeLoE6Pvf"
      },
      "outputs": [],
      "source": [
        "# Define an MLP network. Note that input dimension has to be data dimension. For classification\n",
        "# final dimension has to be number of classes; for regression one.\n",
        "#torch.manual_seed(10)\n",
        "#net = models.MLP(dims=[20,128,64,10])\n",
        "#net = models.MLP(dims=[400,128,64,74])\n",
        "net = models.MLP(dims=[784,128,64,10])\n",
        "#net = models.MLP(dims=[20,128,64,5])"
      ]
    },
    {
      "cell_type": "markdown",
      "metadata": {
        "id": "wJefhTEX6Pvf"
      },
      "source": [
        "Recurrent neural network."
      ]
    },
    {
      "cell_type": "code",
      "execution_count": null,
      "metadata": {
        "id": "rM9_Lk-Z6Pvg"
      },
      "outputs": [],
      "source": [
        "# Define an RNN to process a sequence; default is 1-D where input can be (batch,seq_vals) else input will need to be given\n",
        "# with an extra dimension and input will be (batch,seq,features)\n",
        "net = models.SimpleRNN(input_size=1,hidden_size=32,output_size=5,lr=1e-3)"
      ]
    },
    {
      "cell_type": "code",
      "execution_count": null,
      "metadata": {
        "id": "DEDi5NHw6Pvg"
      },
      "outputs": [],
      "source": [
        "net = models.SimpleLSTM(input_size=1,hidden_size=32,output_size=5,lr=1e-3)"
      ]
    },
    {
      "cell_type": "code",
      "source": [
        "net = models.SimpleLSTM(input_size=149,hidden_size=64,output_size=3,lr=1e-3)"
      ],
      "metadata": {
        "id": "a214c4XwdIng"
      },
      "execution_count": null,
      "outputs": []
    },
    {
      "cell_type": "markdown",
      "metadata": {
        "id": "Wl-WmWya6Pvg"
      },
      "source": [
        "Train the network"
      ]
    },
    {
      "cell_type": "code",
      "execution_count": null,
      "metadata": {
        "id": "coHXk_Z26Pvg"
      },
      "outputs": [],
      "source": [
        "# Train the network; note that network is trained in place so repeated calls further train it.\n",
        "net,losses,accs=models.Train(net,dloader,epochs=50,verbose=True)"
      ]
    },
    {
      "cell_type": "code",
      "source": [
        "net,losses,accs=models.Train(net,feedDataMetaTrain.train_ds,epochs=5,verbose=True)"
      ],
      "metadata": {
        "id": "Wm8-IiS8dPIA"
      },
      "execution_count": null,
      "outputs": []
    },
    {
      "cell_type": "markdown",
      "metadata": {
        "id": "optX8iQb6Pvg"
      },
      "source": [
        "Accuracy on training set."
      ]
    },
    {
      "cell_type": "code",
      "execution_count": null,
      "metadata": {
        "id": "-VYXRR5a6Pvg"
      },
      "outputs": [],
      "source": [
        "#Training accuracy.\n",
        "models.accuracy(net,train_ds.samples,train_ds.labels,verbose=True)"
      ]
    },
    {
      "cell_type": "code",
      "source": [
        "models.accuracy_variable(net,feedDataMetaTrain.train_ds)"
      ],
      "metadata": {
        "id": "LuXRFxFzdXyN"
      },
      "execution_count": null,
      "outputs": []
    },
    {
      "cell_type": "markdown",
      "metadata": {
        "id": "f2wzSqyh6Pvg"
      },
      "source": [
        "Accuracy on test set."
      ]
    },
    {
      "cell_type": "code",
      "execution_count": null,
      "metadata": {
        "id": "AUed-ugX6Pvg"
      },
      "outputs": [],
      "source": [
        "# Test accuracy.\n",
        "models.accuracy(net,test_ds.samples,test_ds.labels)"
      ]
    },
    {
      "cell_type": "code",
      "execution_count": null,
      "metadata": {
        "id": "dsAoZQWg6Pvg"
      },
      "outputs": [],
      "source": [
        "models.accuracy_variable(net,feedDataMetaTest.train_ds)"
      ]
    }
  ],
  "metadata": {
    "kernelspec": {
      "display_name": "Python 3 (ipykernel)",
      "language": "python",
      "name": "python3"
    },
    "language_info": {
      "codemirror_mode": {
        "name": "ipython",
        "version": 3
      },
      "file_extension": ".py",
      "mimetype": "text/x-python",
      "name": "python",
      "nbconvert_exporter": "python",
      "pygments_lexer": "ipython3",
      "version": "3.8.12"
    },
    "colab": {
      "name": "nb0.ipynb",
      "provenance": [],
      "include_colab_link": true
    },
    "accelerator": "GPU"
  },
  "nbformat": 4,
  "nbformat_minor": 0
}