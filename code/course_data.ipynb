{
 "cells": [
  {
   "cell_type": "code",
   "execution_count": null,
   "id": "43f159b4-9256-4ffd-91c7-69387492d535",
   "metadata": {},
   "outputs": [],
   "source": [
    "import numpy as np\n",
    "import pandas as pd\n",
    "import torch\n",
    "from torch.utils.data import Dataset\n",
    "from torch.utils.data import DataLoader\n",
    "from PIL import Image\n",
    "from PIL.ImageOps import invert\n",
    "import pickle\n",
    "from matplotlib import pyplot as plt\n",
    "import requests"
   ]
  },
  {
   "cell_type": "code",
   "execution_count": null,
   "id": "bb14129d-d0d6-4665-be8d-d9c8de585221",
   "metadata": {},
   "outputs": [],
   "source": [
    "class MyDS(Dataset):\n",
    "    def __init__(self, X,y):\n",
    "        self.samples = torch.Tensor(X)\n",
    "        self.labels = torch.LongTensor(y)\n",
    "        \n",
    "    def __len__(self):\n",
    "        return len(self.samples)\n",
    "\n",
    "    def __getitem__(self, idx):\n",
    "        return (self.samples[idx],self.labels[idx])"
   ]
  },
  {
   "cell_type": "code",
   "execution_count": null,
   "id": "3f038477-1a22-4f35-a67f-d5d70918475a",
   "metadata": {},
   "outputs": [],
   "source": [
    "class ImageData():\n",
    "    def __init__():\n",
    "        # train_ds\n",
    "        # test_ds\n",
    "        # images_train\n",
    "        # images_test\n",
    "        # names_train\n",
    "        # names_test\n",
    "        # dloader\n",
    "        # mapping\n",
    "        pass"
   ]
  },
  {
   "cell_type": "code",
   "execution_count": null,
   "id": "2a0071e0",
   "metadata": {},
   "outputs": [],
   "source": [
    "class ImageGridData():\n",
    "    def __init__(self):\n",
    "        pass"
   ]
  },
  {
   "cell_type": "code",
   "execution_count": null,
   "id": "1eac4547-2bf4-4392-bf66-765d602cb2e0",
   "metadata": {},
   "outputs": [],
   "source": [
    "class TsDS(Dataset):\n",
    "    def __init__(self, XL,yL):\n",
    "        self.samples=[]\n",
    "        self.labels=[]\n",
    "        for X,Y in zip(XL,yL):\n",
    "            self.samples += [torch.Tensor(X).unsqueeze(0)]\n",
    "            self.labels += [torch.LongTensor(Y)]\n",
    "    def __len__(self):\n",
    "        return len(self.samples)\n",
    "\n",
    "    def __getitem__(self, idx):\n",
    "        return (self.samples[idx],self.labels[idx])"
   ]
  },
  {
   "cell_type": "code",
   "execution_count": null,
   "id": "c952618c-41e7-41a7-8787-97a1fe458ba1",
   "metadata": {},
   "outputs": [],
   "source": [
    "class FeedData():\n",
    "    def __init__():\n",
    "        #train_ds\n",
    "        #test_ds\n",
    "        pass"
   ]
  },
  {
   "cell_type": "markdown",
   "id": "115afbc1-a7c4-4c25-af23-c2acfc811d8f",
   "metadata": {},
   "source": [
    "Go to directory where you want to download code; if on Colab you can ignore"
   ]
  },
  {
   "cell_type": "code",
   "execution_count": null,
   "id": "930a23c1-b805-4e17-829a-edaaf043665c",
   "metadata": {},
   "outputs": [],
   "source": [
    "%cd"
   ]
  },
  {
   "cell_type": "code",
   "execution_count": null,
   "id": "60c2a7b4-6654-4628-8bb2-4b80f6ef60f6",
   "metadata": {},
   "outputs": [],
   "source": [
    "%cd ./TryCode/tmp/"
   ]
  },
  {
   "cell_type": "markdown",
   "id": "5bb0a70b-4170-4a57-b9b0-adba562dbde6",
   "metadata": {},
   "source": [
    "Load Image Dataset"
   ]
  },
  {
   "cell_type": "code",
   "execution_count": null,
   "id": "a90394d9-2311-4a7a-a7cb-eaf22aec6501",
   "metadata": {},
   "outputs": [],
   "source": [
    "r=requests.get(\"https://github.com/gmshroff/metaLearning2022/blob/main/data/image_data.pickle.zip?raw=true\")"
   ]
  },
  {
   "cell_type": "code",
   "execution_count": null,
   "id": "ba7d8cf8-9d98-4d2e-957f-538e892002ad",
   "metadata": {},
   "outputs": [],
   "source": [
    "with open('./TryCode/tmp/image_data.pickle.zip','wb') as f: f.write(r.content)"
   ]
  },
  {
   "cell_type": "code",
   "execution_count": null,
   "id": "10e32ae8-6125-4545-964e-bc23e73dfa7b",
   "metadata": {},
   "outputs": [],
   "source": [
    "!unzip image_data.pickle.zip"
   ]
  },
  {
   "cell_type": "code",
   "execution_count": null,
   "id": "b6345938-2455-43ce-b2f8-8ade66d1d94f",
   "metadata": {},
   "outputs": [],
   "source": [
    "with open('./image_data.pickle','rb') as f: imageData=pickle.load(f)"
   ]
  },
  {
   "cell_type": "markdown",
   "id": "fdae5e5c",
   "metadata": {},
   "source": [
    "Load images in grid dataset"
   ]
  },
  {
   "cell_type": "code",
   "execution_count": null,
   "id": "184e261b-a6dd-4ccb-bda9-c6b92dcfba4c",
   "metadata": {},
   "outputs": [],
   "source": [
    "r=requests.get(\"https://github.com/gmshroff/metaLearning2022/blob/main/data/image_grid_data.pickle.zip?raw=true\")"
   ]
  },
  {
   "cell_type": "code",
   "execution_count": null,
   "id": "ffc50d33-9b46-471d-aff9-c1f84cd92af0",
   "metadata": {},
   "outputs": [],
   "source": [
    "with open('./image_grid_data.pickle.zip','wb') as f: f.write(r.content)"
   ]
  },
  {
   "cell_type": "code",
   "execution_count": null,
   "id": "a4e032f6-0d28-46ae-94c7-4f2b9d922450",
   "metadata": {},
   "outputs": [],
   "source": [
    "!unzip image_grid_data.pickle.zip"
   ]
  },
  {
   "cell_type": "code",
   "execution_count": null,
   "id": "385d1e7c",
   "metadata": {},
   "outputs": [],
   "source": [
    "with open('./image_grid_data.pickle','rb') as f: imageGrid=pickle.load(f)"
   ]
  },
  {
   "cell_type": "code",
   "execution_count": null,
   "id": "fcc01bc5-eb56-4147-83b9-29e8c23c24b4",
   "metadata": {},
   "outputs": [],
   "source": [
    "Load Feeds Dataset"
   ]
  },
  {
   "cell_type": "code",
   "execution_count": null,
   "id": "c6a31072-93c0-4e5b-afe3-3acb4125deed",
   "metadata": {},
   "outputs": [],
   "source": [
    "r=requests.get(\"https://github.com/gmshroff/metaLearning2022/blob/main/data/feedDataTrain.pickle.zip?raw=true\")"
   ]
  },
  {
   "cell_type": "code",
   "execution_count": null,
   "id": "45f75296-dbb0-4935-8eeb-39d9ad0516a8",
   "metadata": {},
   "outputs": [],
   "source": [
    "with open('./feedsDataTrain.pickle.zip','wb') as f: f.write(r.content)"
   ]
  },
  {
   "cell_type": "code",
   "execution_count": null,
   "id": "1eaccbd0-1023-44e9-b743-74b7e591694f",
   "metadata": {},
   "outputs": [],
   "source": [
    "!unzip feedsDataTrain.pickle.zip"
   ]
  },
  {
   "cell_type": "code",
   "execution_count": null,
   "id": "24be7e79-0565-4f67-a305-d0cb5a6d1d20",
   "metadata": {},
   "outputs": [],
   "source": [
    "with open('./feedDataTrain.pickle','rb') as f: feedDataMetaTrain=pickle.load(f)"
   ]
  },
  {
   "cell_type": "code",
   "execution_count": null,
   "id": "50e82d47-502a-41e3-9882-3a14ca4ada86",
   "metadata": {},
   "outputs": [],
   "source": [
    "r=requests.get(\"https://github.com/gmshroff/metaLearning2022/blob/main/data/feedDataTest.pickle.zip?raw=true\")"
   ]
  },
  {
   "cell_type": "code",
   "execution_count": null,
   "id": "72a45a9b-fe14-4d82-b5d5-52d0d09283d4",
   "metadata": {},
   "outputs": [],
   "source": [
    "with open('./feedsDataTest.pickle.zip','wb') as f: f.write(r.content)"
   ]
  },
  {
   "cell_type": "code",
   "execution_count": null,
   "id": "16cf0fde-fdbf-4116-ad22-e1a24bef78b7",
   "metadata": {},
   "outputs": [],
   "source": [
    "!unzip feedsDataTest.pickle.zip"
   ]
  },
  {
   "cell_type": "code",
   "execution_count": null,
   "id": "fd1bf02c-87c1-4934-8e9f-d48d55399408",
   "metadata": {},
   "outputs": [],
   "source": [
    "with open('./feedDataTest.pickle','rb') as f: feedDataMetaTest=pickle.load(f)"
   ]
  },
  {
   "cell_type": "code",
   "execution_count": null,
   "id": "e840e6b7-235f-411b-8f21-e0ad0b36ac5c",
   "metadata": {},
   "outputs": [],
   "source": []
  }
 ],
 "metadata": {
  "kernelspec": {
   "display_name": "Python 3 (ipykernel)",
   "language": "python",
   "name": "python3"
  },
  "language_info": {
   "codemirror_mode": {
    "name": "ipython",
    "version": 3
   },
   "file_extension": ".py",
   "mimetype": "text/x-python",
   "name": "python",
   "nbconvert_exporter": "python",
   "pygments_lexer": "ipython3",
   "version": "3.8.12"
  }
 },
 "nbformat": 4,
 "nbformat_minor": 5
}
