{
  "cells": [
    {
      "cell_type": "markdown",
      "metadata": {
        "id": "view-in-github",
        "colab_type": "text"
      },
      "source": [
        "<a href=\"https://colab.research.google.com/github/gmshroff/metaLearning2022/blob/main/homework/hw1/models.ipynb\" target=\"_parent\"><img src=\"https://colab.research.google.com/assets/colab-badge.svg\" alt=\"Open In Colab\"/></a>"
      ]
    },
    {
      "cell_type": "markdown",
      "metadata": {
        "id": "zjtsetThgNGF"
      },
      "source": [
        "# Deep Learning Models etc"
      ]
    },
    {
      "cell_type": "code",
      "execution_count": null,
      "metadata": {
        "id": "DlPofFf4gNGH"
      },
      "outputs": [],
      "source": [
        "from IPython.display import HTML\n",
        "import import_ipynb\n",
        "import random\n",
        "import utils\n",
        "utils.hide_toggle('Imports 1')"
      ]
    },
    {
      "cell_type": "code",
      "execution_count": null,
      "metadata": {
        "id": "zyWPOfx4gNGI"
      },
      "outputs": [],
      "source": [
        "import numpy as np\n",
        "import torch\n",
        "from torch import nn\n",
        "from torch import optim\n",
        "from IPython import display\n",
        "utils.hide_toggle('Imports 2')"
      ]
    },
    {
      "cell_type": "markdown",
      "metadata": {
        "id": "Bf-ObTVjgNGI"
      },
      "source": [
        "Compute accuracy of predictions."
      ]
    },
    {
      "cell_type": "code",
      "execution_count": null,
      "metadata": {
        "id": "U1s2K8t9gNGI"
      },
      "outputs": [],
      "source": [
        "def accuracy(Net,X_test,y_test,verbose=True):\n",
        "    Net.eval()\n",
        "    m = X_test.shape[0]\n",
        "    y_pred = Net(X_test)\n",
        "    predicted = torch.max(y_pred, 1)[1]\n",
        "    correct = (predicted == y_test).float().sum().item()\n",
        "    if verbose: print(correct,m)\n",
        "    accuracy = correct/m\n",
        "    Net.train()\n",
        "    return accuracy\n",
        "utils.hide_toggle('Function: accuracy')"
      ]
    },
    {
      "cell_type": "code",
      "source": [
        "def accuracy_variable(Net,data):\n",
        "    step=0\n",
        "    acc=0\n",
        "    for (X,y) in data:\n",
        "            y_pred = Net(X)\n",
        "            step+=1\n",
        "            acc+=accuracy(Net,X,y,verbose=False)\n",
        "    a = acc/step\n",
        "    return a"
      ],
      "metadata": {
        "id": "F-soed1XgPvk"
      },
      "execution_count": null,
      "outputs": []
    },
    {
      "cell_type": "markdown",
      "metadata": {
        "id": "kAO_qzaXgNGI"
      },
      "source": [
        "Generic training loop"
      ]
    },
    {
      "cell_type": "code",
      "execution_count": null,
      "metadata": {
        "id": "DkOM1grhgNGJ"
      },
      "outputs": [],
      "source": [
        "def Train(Net,data,epochs=20,lr=5e-2,Loss=nn.NLLLoss(),verbose=False):\n",
        "    ### INSERT YOUR CODE HERE\n",
        "    return Net,losses,accs\n",
        "utils.hide_toggle('Function Train')"
      ]
    },
    {
      "cell_type": "markdown",
      "metadata": {
        "id": "k7hmr1AlgNGJ"
      },
      "source": [
        "Multi-layer perceptron with ReLU non-lineartities; for classification or regression."
      ]
    },
    {
      "cell_type": "code",
      "execution_count": null,
      "metadata": {
        "id": "13XBi0oagNGK"
      },
      "outputs": [],
      "source": [
        "class MLP(nn.Module):\n",
        "    def __init__(self,dims=[5,3,2],task='classification',lr=1e-3):\n",
        "        super(MLP,self).__init__()\n",
        "        # Neural network layers assigned as attributes of a Module subclass\n",
        "        # have their parameters registered for training automatically.\n",
        "        ### INSERT YOUR CODE HERE\n",
        "        self.optimizer = optim.Adam(self.parameters(),lr=lr)\n",
        "    def forward(self,x):\n",
        "        ### Insert your code here\n",
        "        return(x)\n",
        "utils.hide_toggle('Class MLP')"
      ]
    },
    {
      "cell_type": "markdown",
      "metadata": {
        "id": "OH7lFdnrgNGK"
      },
      "source": [
        "Recurrent network using GRU"
      ]
    },
    {
      "cell_type": "code",
      "execution_count": null,
      "metadata": {
        "id": "ROcNAY9igNGL"
      },
      "outputs": [],
      "source": [
        "class SimpleRNN(nn.Module):\n",
        "    def __init__(self, input_size, hidden_size, output_size,lr):\n",
        "        # This just calls the base class constructor\n",
        "        super().__init__()\n",
        "        # Neural network layers assigned as attributes of a Module subclass\n",
        "        # have their parameters registered for training automatically.\n",
        "        self.input_size=input_size\n",
        "        self.rnn = torch.nn.RNN(input_size, hidden_size, nonlinearity='relu', batch_first=True)\n",
        "        self.linear = torch.nn.Linear(hidden_size, output_size)\n",
        "        self.logsoft = nn.LogSoftmax(dim=-1)\n",
        "        self.optimizer = optim.Adam(self.parameters(),lr=lr)\n",
        "    def forward(self, x):\n",
        "        # torch.nn.RNN also returns its hidden state but we don't use it.\n",
        "        # While the RNN can also take a hidden state as input, the RNN\n",
        "        # gets passed a hidden state initialized with zeros by default.\n",
        "        if self.input_size==1: x=x.unsqueeze(-1)\n",
        "        ### INSERT YOUR CODE HERE\n",
        "        x=x[:,-1,:]\n",
        "        return x"
      ]
    },
    {
      "cell_type": "code",
      "execution_count": null,
      "metadata": {
        "id": "stMcIkq0gNGL"
      },
      "outputs": [],
      "source": [
        "class SimpleLSTM(nn.Module):\n",
        "    def __init__(self, input_size, hidden_size, output_size, lr):\n",
        "        super().__init__()\n",
        "        ### INSERT YOUR CODE HERE\n",
        "    def forward(self, x):\n",
        "        if self.input_size==1: x=x.unsqueeze(-1)\n",
        "        #### INSERT YOUR CODE HERE\n",
        "        return x"
      ]
    }
  ],
  "metadata": {
    "kernelspec": {
      "display_name": "Python 3 (ipykernel)",
      "language": "python",
      "name": "python3"
    },
    "language_info": {
      "codemirror_mode": {
        "name": "ipython",
        "version": 3
      },
      "file_extension": ".py",
      "mimetype": "text/x-python",
      "name": "python",
      "nbconvert_exporter": "python",
      "pygments_lexer": "ipython3",
      "version": "3.8.12"
    },
    "colab": {
      "name": "models.ipynb",
      "provenance": [],
      "include_colab_link": true
    }
  },
  "nbformat": 4,
  "nbformat_minor": 0
}