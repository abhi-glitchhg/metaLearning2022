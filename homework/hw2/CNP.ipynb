{
  "cells": [
    {
      "cell_type": "markdown",
      "metadata": {
        "id": "view-in-github",
        "colab_type": "text"
      },
      "source": [
        "<a href=\"https://colab.research.google.com/github/gmshroff/metaLearning2022/blob/main/homework/hw2/CNP.ipynb\" target=\"_parent\"><img src=\"https://colab.research.google.com/assets/colab-badge.svg\" alt=\"Open In Colab\"/></a>"
      ]
    },
    {
      "cell_type": "code",
      "execution_count": null,
      "id": "072ee2e0-0ef2-4b88-bdae-1e97c1eb2010",
      "metadata": {
        "id": "072ee2e0-0ef2-4b88-bdae-1e97c1eb2010"
      },
      "outputs": [],
      "source": [
        "import utils\n",
        "import models"
      ]
    },
    {
      "cell_type": "code",
      "execution_count": null,
      "id": "06d89c1d-303f-4c9e-aa3d-cd6e9a0aac3d",
      "metadata": {
        "id": "06d89c1d-303f-4c9e-aa3d-cd6e9a0aac3d"
      },
      "outputs": [],
      "source": [
        "from IPython import display\n",
        "import torch\n",
        "from sklearn.manifold import TSNE\n",
        "from matplotlib import pyplot as plt\n",
        "from l2lutils import KShotLoader\n",
        "from IPython import display\n",
        "import torch.nn as nn"
      ]
    },
    {
      "cell_type": "code",
      "execution_count": null,
      "id": "9ffd6660-bcd9-499d-b09a-d8c2274e64e8",
      "metadata": {
        "id": "9ffd6660-bcd9-499d-b09a-d8c2274e64e8"
      },
      "outputs": [],
      "source": [
        "class CNP(nn.Module):\n",
        "    def __init__(self,n_features=1,dims=[32,32],n_classes=2,lr=1e-4):\n",
        "        super(CNP,self).__init__()\n",
        "        self.n_features = n_features\n",
        "        self.n_classes = n_classes\n",
        "        dimL1 = [n_features]+dims\n",
        "        dimL2=[n_features+n_classes*dims[-1]]+dims+[n_classes]\n",
        "        self.mlp1 = models.MLP(dims=dimL1,task='embedding')\n",
        "        self.mlp2 = models.MLP(dims=dimL2)\n",
        "        self.optimizer=torch.optim.Adam(self.parameters(),lr=lr)\n",
        "    def adapt(self,X,y):\n",
        "        # INSERT YOUR CODE HERE\n",
        "        return r\n",
        "        #return r,m,R\n",
        "    def forward(self,Y,r):\n",
        "        # INSERT YOUR CODE HERE\n",
        "        return p"
      ]
    }
  ],
  "metadata": {
    "kernelspec": {
      "display_name": "Python 3 (ipykernel)",
      "language": "python",
      "name": "python3"
    },
    "language_info": {
      "codemirror_mode": {
        "name": "ipython",
        "version": 3
      },
      "file_extension": ".py",
      "mimetype": "text/x-python",
      "name": "python",
      "nbconvert_exporter": "python",
      "pygments_lexer": "ipython3",
      "version": "3.8.12"
    },
    "colab": {
      "name": "CNP.ipynb",
      "provenance": [],
      "include_colab_link": true
    }
  },
  "nbformat": 4,
  "nbformat_minor": 5
}