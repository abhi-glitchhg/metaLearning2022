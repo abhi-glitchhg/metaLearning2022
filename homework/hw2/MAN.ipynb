{
  "cells": [
    {
      "cell_type": "markdown",
      "metadata": {
        "id": "view-in-github",
        "colab_type": "text"
      },
      "source": [
        "<a href=\"https://colab.research.google.com/github/gmshroff/metaLearning2022/blob/main/homework/hw2/MAN.ipynb\" target=\"_parent\"><img src=\"https://colab.research.google.com/assets/colab-badge.svg\" alt=\"Open In Colab\"/></a>"
      ]
    },
    {
      "cell_type": "code",
      "execution_count": null,
      "id": "a4edff03-a4a3-4d38-8d34-aeac5686015c",
      "metadata": {
        "id": "a4edff03-a4a3-4d38-8d34-aeac5686015c",
        "outputId": "7f3b24e7-8c85-4e69-fc60-c753b342a175"
      },
      "outputs": [
        {
          "name": "stdout",
          "output_type": "stream",
          "text": [
            "importing Jupyter notebook from utils.ipynb\n",
            "importing Jupyter notebook from models.ipynb\n"
          ]
        }
      ],
      "source": [
        "import import_ipynb\n",
        "import utils\n",
        "import models\n",
        "utils.hide_toggle('Imports 1')"
      ]
    },
    {
      "cell_type": "code",
      "execution_count": null,
      "id": "9d1ad9e2-2b30-4a1c-b1f4-9a1c5d33b5b3",
      "metadata": {
        "id": "9d1ad9e2-2b30-4a1c-b1f4-9a1c5d33b5b3",
        "outputId": "6f9eec7f-421b-4ec4-f707-c386f6b84df4"
      },
      "outputs": [
        {
          "name": "stdout",
          "output_type": "stream",
          "text": [
            "importing Jupyter notebook from l2lutils.ipynb\n"
          ]
        }
      ],
      "source": [
        "from IPython import display\n",
        "import torch\n",
        "from sklearn.manifold import TSNE\n",
        "from matplotlib import pyplot as plt\n",
        "from l2lutils import KShotLoader\n",
        "from IPython import display\n",
        "utils.hide_toggle('Imports 2')"
      ]
    },
    {
      "cell_type": "code",
      "execution_count": null,
      "id": "ca1f7a4e-6c56-481d-bf13-253f8cb10c9e",
      "metadata": {
        "id": "ca1f7a4e-6c56-481d-bf13-253f8cb10c9e"
      },
      "outputs": [],
      "source": [
        "import learn2learn as l2l\n",
        "import torch.optim as optim\n",
        "import torch.nn as nn\n",
        "import torch.nn.functional as F"
      ]
    },
    {
      "cell_type": "code",
      "execution_count": null,
      "id": "cd2c1e4e-e7c6-4c4b-8fde-93c1d42875d6",
      "metadata": {
        "id": "cd2c1e4e-e7c6-4c4b-8fde-93c1d42875d6"
      },
      "outputs": [],
      "source": [
        "class MAN(nn.Module):\n",
        "    def __init__(self,dims=[20,32,32],n_classes=2,lr=1e-3):\n",
        "        super(MAN,self).__init__()\n",
        "        self.n_classes = n_classes\n",
        "        self.mlp = models.MLP(dims=dims,task='embedding')\n",
        "        self.attn = nn.Softmax(dim=1)\n",
        "        self.optimizer = optim.Adam(self.parameters(),lr=lr)\n",
        "    def forward(self,X,d_train):\n",
        "        # INSERT YOUR CODE HERE\n",
        "        return preds\n",
        "    def cos(self,target,ss):\n",
        "        # compute cosine similarities between \n",
        "        # target (batch,embedding_dim) and support set ss (ss_size,embedding_dim)\n",
        "        # return (batch,ss_size)\n",
        "        # INSERT YOUR CODE HERE\n",
        "        return similarities"
      ]
    }
  ],
  "metadata": {
    "kernelspec": {
      "display_name": "Python 3 (ipykernel)",
      "language": "python",
      "name": "python3"
    },
    "language_info": {
      "codemirror_mode": {
        "name": "ipython",
        "version": 3
      },
      "file_extension": ".py",
      "mimetype": "text/x-python",
      "name": "python",
      "nbconvert_exporter": "python",
      "pygments_lexer": "ipython3",
      "version": "3.8.12"
    },
    "colab": {
      "name": "MAN.ipynb",
      "provenance": [],
      "include_colab_link": true
    }
  },
  "nbformat": 4,
  "nbformat_minor": 5
}